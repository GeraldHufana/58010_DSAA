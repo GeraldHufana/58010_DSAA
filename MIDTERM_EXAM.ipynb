{
  "nbformat": 4,
  "nbformat_minor": 0,
  "metadata": {
    "colab": {
      "provenance": [],
      "authorship_tag": "ABX9TyNxgalz62vka1Xi8oUeUvJL",
      "include_colab_link": true
    },
    "kernelspec": {
      "name": "python3",
      "display_name": "Python 3"
    },
    "language_info": {
      "name": "python"
    }
  },
  "cells": [
    {
      "cell_type": "markdown",
      "metadata": {
        "id": "view-in-github",
        "colab_type": "text"
      },
      "source": [
        "<a href=\"https://colab.research.google.com/github/GeraldHufana/58010_DSAA/blob/main/MIDTERM_EXAM.ipynb\" target=\"_parent\"><img src=\"https://colab.research.google.com/assets/colab-badge.svg\" alt=\"Open In Colab\"/></a>"
      ]
    },
    {
      "cell_type": "code",
      "execution_count": 5,
      "metadata": {
        "colab": {
          "base_uri": "https://localhost:8080/"
        },
        "id": "AvrVVdNBb0PD",
        "outputId": "ad61a84c-ff32-4a39-fda8-ee9565199aba"
      },
      "outputs": [
        {
          "output_type": "stream",
          "name": "stdout",
          "text": [
            "['A', 'B', 'C', 'D', 'E', 'F', 'G', 'I', 'J', 'K', 'L', 'M', 'N', 'O', 'P']\n"
          ]
        }
      ],
      "source": [
        "class graph:\n",
        "  def __init__(self,gdict=None):\n",
        "    if gdict is None:\n",
        "      gdict = []\n",
        "    self.gdict = gdict\n",
        "\n",
        "  def getVertices(self):\n",
        "     return list(self.gdict.keys())\n",
        "\n",
        "graph_elements = {\n",
        "    \"A\" : [\"B\"],\n",
        "    \"B\" : [\"E\", \"C\", \"F\"],\n",
        "    \"C\" : [\"M\", \"D\", \"I\"],\n",
        "    \"D\" : [\"L\", \"K\"],\n",
        "    \"E\" : [\"N\", \"C\"],\n",
        "    \"F\" : [\"C\", \"I\", \"G\"],\n",
        "    \"G\" : [\"I\", \"J\"],\n",
        "    \"I\" : [\"K\", \"J\"],\n",
        "    \"J\" : [\"K\"],\n",
        "    \"K\" : [],\n",
        "    \"L\" : [],\n",
        "    \"M\" : [\"O\", \"P\"],\n",
        "    \"N\" : [\"M\", \"O\"],\n",
        "    \"O\" : [\"P\", \"M\"],\n",
        "    \"P\" : [],\n",
        "}\n",
        "g = graph(graph_elements)\n",
        "print(g.getVertices())"
      ]
    },
    {
      "cell_type": "code",
      "source": [
        "class graph:\n",
        "  def __init__(self,gdict=None):\n",
        "    if gdict is None:\n",
        "      gdict = {}\n",
        "    self.gdict = gdict\n",
        "\n",
        "  def edges(self):\n",
        "    return self.findedges()\n",
        "\n",
        "  def findedges(self):\n",
        "    edgename = []\n",
        "    for vrtx in self.gdict:\n",
        "      for nxtvrtx in self.gdict[vrtx]:\n",
        "        if {nxtvrtx, vrtx} not in edgename:\n",
        "          edgename.append({vrtx, nxtvrtx})\n",
        "    return edgename\n",
        "\n",
        "graph_elements = {\n",
        "    \"A\" : [\"B\"],\n",
        "    \"B\" : [\"E\", \"C\", \"F\"],\n",
        "    \"C\" : [\"M\", \"D\", \"I\"],\n",
        "    \"D\" : [\"L\", \"K\"],\n",
        "    \"E\" : [\"N\", \"C\"],\n",
        "    \"F\" : [\"C\", \"I\", \"G\"],\n",
        "    \"G\" : [\"I\", \"J\"],\n",
        "    \"I\" : [\"K\", \"J\"],\n",
        "    \"J\" : [\"K\"],\n",
        "    \"K\" : [],\n",
        "    \"L\" : [],\n",
        "    \"M\" : [\"O\", \"P\"],\n",
        "    \"N\" : [\"M\", \"O\"],\n",
        "    \"O\" : [\"P\", \"M\"],\n",
        "    \"P\" : [],\n",
        "}\n",
        "g = graph(graph_elements)\n",
        "print(g.edges())\n"
      ],
      "metadata": {
        "colab": {
          "base_uri": "https://localhost:8080/"
        },
        "id": "LgoppZ8tlN5f",
        "outputId": "739185ce-8fa2-47a7-e6a7-50790a9cc353"
      },
      "execution_count": 6,
      "outputs": [
        {
          "output_type": "stream",
          "name": "stdout",
          "text": [
            "[{'B', 'A'}, {'E', 'B'}, {'B', 'C'}, {'B', 'F'}, {'M', 'C'}, {'C', 'D'}, {'I', 'C'}, {'L', 'D'}, {'K', 'D'}, {'E', 'N'}, {'E', 'C'}, {'F', 'C'}, {'I', 'F'}, {'G', 'F'}, {'I', 'G'}, {'G', 'J'}, {'I', 'K'}, {'I', 'J'}, {'K', 'J'}, {'O', 'M'}, {'M', 'P'}, {'M', 'N'}, {'O', 'N'}, {'O', 'P'}]\n"
          ]
        }
      ]
    }
  ]
}