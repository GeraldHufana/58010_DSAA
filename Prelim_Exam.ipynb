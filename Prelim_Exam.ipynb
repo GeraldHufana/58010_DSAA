{
  "nbformat": 4,
  "nbformat_minor": 0,
  "metadata": {
    "colab": {
      "provenance": [],
      "authorship_tag": "ABX9TyMHuddo5VtZEk0OlSDgeL2X",
      "include_colab_link": true
    },
    "kernelspec": {
      "name": "python3",
      "display_name": "Python 3"
    },
    "language_info": {
      "name": "python"
    }
  },
  "cells": [
    {
      "cell_type": "markdown",
      "metadata": {
        "id": "view-in-github",
        "colab_type": "text"
      },
      "source": [
        "<a href=\"https://colab.research.google.com/github/GeraldHufana/58010_DSAA/blob/main/Prelim_Exam.ipynb\" target=\"_parent\"><img src=\"https://colab.research.google.com/assets/colab-badge.svg\" alt=\"Open In Colab\"/></a>"
      ]
    },
    {
      "cell_type": "code",
      "source": [
        "\n",
        "score = [26, 49, 98, 87, 62, 75]\n",
        "total = 0\n",
        "for score in score:\n",
        "  if score ++ 0:\n",
        "    total += score\n",
        "print(\"The total test scores: \", total)\n",
        "\n",
        "score = [26, 49, 98, 87, 62, 75]\n",
        "score.sort()\n",
        "print(\"Ascending order:\", score)"
      ],
      "metadata": {
        "colab": {
          "base_uri": "https://localhost:8080/"
        },
        "id": "bDLTC4DGe6jh",
        "outputId": "bccf985d-f94a-42e5-b1e6-3fb5d8bda778"
      },
      "execution_count": 6,
      "outputs": [
        {
          "output_type": "stream",
          "name": "stdout",
          "text": [
            "The total test scores:  397\n",
            "Ascending order: [26, 49, 62, 75, 87, 98]\n"
          ]
        }
      ]
    }
  ]
}