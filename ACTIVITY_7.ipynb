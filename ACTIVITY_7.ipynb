{
  "nbformat": 4,
  "nbformat_minor": 0,
  "metadata": {
    "colab": {
      "provenance": [],
      "authorship_tag": "ABX9TyPToUOZwvdbfpHFbiZWwtdw",
      "include_colab_link": true
    },
    "kernelspec": {
      "name": "python3",
      "display_name": "Python 3"
    },
    "language_info": {
      "name": "python"
    }
  },
  "cells": [
    {
      "cell_type": "markdown",
      "metadata": {
        "id": "view-in-github",
        "colab_type": "text"
      },
      "source": [
        "<a href=\"https://colab.research.google.com/github/GeraldHufana/58010_DSAA/blob/main/ACTIVITY_7.ipynb\" target=\"_parent\"><img src=\"https://colab.research.google.com/assets/colab-badge.svg\" alt=\"Open In Colab\"/></a>"
      ]
    },
    {
      "cell_type": "code",
      "execution_count": 12,
      "metadata": {
        "colab": {
          "base_uri": "https://localhost:8080/"
        },
        "id": "e4wWlk-6nRfS",
        "outputId": "f823f664-fda6-4f6a-bd96-5205373de614"
      },
      "outputs": [
        {
          "output_type": "stream",
          "name": "stdout",
          "text": [
            "[{'Q', 'S'}, {'T', 'Q'}, {'W', 'Q'}, {'U', 'R'}, {'Y', 'R'}, {'V', 'S'}, {'T', 'Y'}, {'T', 'X'}, {'U', 'Y'}, {'V', 'W'}, {'W', 'S'}, {'X', 'Z'}, {'Q', 'Y'}]\n"
          ]
        }
      ],
      "source": [
        "class graph:\n",
        "  def __init__(self,gdict=None):\n",
        "    if gdict is None:\n",
        "      gdict = {}\n",
        "    self.gdict = gdict\n",
        "\n",
        "  def edges(self):\n",
        "        return self.findedges()\n",
        "# Find the distinct list of edges\n",
        "  def findedges(self):\n",
        "    edgename = []\n",
        "    for vrtx in self.gdict:\n",
        "      for nxtvrtx in self.gdict[vrtx]:\n",
        "        if {nxtvrtx, vrtx} not in edgename:\n",
        "          edgename.append({vrtx, nxtvrtx})\n",
        "    return edgename\n",
        " # Create the dictionary with graph elements\n",
        "graph_elements = {\n",
        "    \"Q\" : [\"S\",\"T\",\"W\"],\n",
        "    \"R\" : [\"U\", \"Y\"],\n",
        "    \"S\" : [\"V\"],\n",
        "    \"T\" : [\"Y\",\"X\"],\n",
        "    \"U\" : [\"Y\"],\n",
        "    \"V\" : [\"W\"],\n",
        "    \"W\" : [\"S\"],\n",
        "    \"X\" : [\"Z\"],\n",
        "    \"Y\" : [\"Q\"],\n",
        "    \"Z\" : [\"X\"]\n",
        "    }\n",
        "g = graph(graph_elements)\n",
        "print (g.edges())\n",
        "\n"
      ]
    },
    {
      "cell_type": "code",
      "source": [
        "class graph:\n",
        "  def __init__(self,gdict=None):\n",
        "    if gdict is None:\n",
        "      gdict = []\n",
        "    self.gdict = gdict\n",
        "# Get the keys of the dictionary\n",
        "  def getVertices(self):\n",
        "     return list(self.gdict.keys())\n",
        "# Create the dictionary with graph elements\n",
        "graph_elements = {\n",
        "    \"Q\" : [\"S\",\"T\",\"W\"],\n",
        "    \"R\" : [\"U\", \"Y\"],\n",
        "    \"S\" : [\"V\"],\n",
        "    \"T\" : [\"Y\",\"X\"],\n",
        "    \"U\" : [\"Y\"],\n",
        "    \"V\" : [\"W\"],\n",
        "    \"W\" : [\"S\"],\n",
        "    \"X\" : [\"Z\"],\n",
        "    \"Y\" : [\"Q\"],\n",
        "    \"Z\" : [\"X\"]\n",
        "}\n",
        "g = graph(graph_elements)\n",
        "print(g.getVertices())"
      ],
      "metadata": {
        "colab": {
          "base_uri": "https://localhost:8080/"
        },
        "id": "kWMkwbBLtPvj",
        "outputId": "6b3d1e25-131e-4a66-971a-ce65ae4a4653"
      },
      "execution_count": 14,
      "outputs": [
        {
          "output_type": "stream",
          "name": "stdout",
          "text": [
            "['Q', 'R', 'S', 'T', 'U', 'V', 'W', 'X', 'Y', 'Z']\n"
          ]
        }
      ]
    }
  ]
}