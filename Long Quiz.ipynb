{
  "nbformat": 4,
  "nbformat_minor": 0,
  "metadata": {
    "colab": {
      "provenance": [],
      "authorship_tag": "ABX9TyN2C8dhyuVs+XWoYVByQBGs",
      "include_colab_link": true
    },
    "kernelspec": {
      "name": "python3",
      "display_name": "Python 3"
    },
    "language_info": {
      "name": "python"
    }
  },
  "cells": [
    {
      "cell_type": "markdown",
      "metadata": {
        "id": "view-in-github",
        "colab_type": "text"
      },
      "source": [
        "<a href=\"https://colab.research.google.com/github/GeraldHufana/58010_DSAA/blob/main/Long%20Quiz.ipynb\" target=\"_parent\"><img src=\"https://colab.research.google.com/assets/colab-badge.svg\" alt=\"Open In Colab\"/></a>"
      ]
    },
    {
      "cell_type": "code",
      "execution_count": 2,
      "metadata": {
        "colab": {
          "base_uri": "https://localhost:8080/"
        },
        "id": "djKnhzHWb_pO",
        "outputId": "aa2eb8c8-3d6c-41e3-a37e-9798bc2a0c75"
      },
      "outputs": [
        {
          "output_type": "stream",
          "name": "stdout",
          "text": [
            "Enter your name: Gerald Hufana\n",
            "Characters: \n",
            "a\n",
            "n\n",
            "a\n",
            "f\n",
            "u\n",
            "H\n",
            " \n",
            "d\n",
            "l\n",
            "a\n",
            "r\n",
            "e\n",
            "G\n"
          ]
        }
      ],
      "source": [
        "name = input (\"Enter your name: \")\n",
        "characters = []\n",
        "for name in name:\n",
        "  characters.append(name)\n",
        "print(\"Characters: \")\n",
        "for name in reversed(characters):\n",
        "  print(name)"
      ]
    },
    {
      "cell_type": "code",
      "source": [
        "def prime(int):\n",
        "    if int <= 1:\n",
        "        return False\n",
        "    if int <= 3:\n",
        "        return True\n",
        "    if int % 2 == 0 or int % 3 == 0:\n",
        "        return False\n",
        "    n = 5\n",
        "    while n * n <= int:\n",
        "        if int % n == 0 or int % (n + 2) == 0:\n",
        "            return False\n",
        "        n += 6\n",
        "    return True\n",
        "\n",
        "for int in range(1, 11):\n",
        "    if prime(int):\n",
        "        print(f\"{int} = Prime\")\n",
        "    else:\n",
        "        print(f\"{int} = Composite\")"
      ],
      "metadata": {
        "colab": {
          "base_uri": "https://localhost:8080/"
        },
        "id": "Mzs7BQfpdKxn",
        "outputId": "94d34107-cf29-40aa-ccc8-dd45249f0098"
      },
      "execution_count": 4,
      "outputs": [
        {
          "output_type": "stream",
          "name": "stdout",
          "text": [
            "1 = Composite\n",
            "2 = Prime\n",
            "3 = Prime\n",
            "4 = Composite\n",
            "5 = Prime\n",
            "6 = Composite\n",
            "7 = Prime\n",
            "8 = Composite\n",
            "9 = Composite\n",
            "10 = Composite\n"
          ]
        }
      ]
    }
  ]
}